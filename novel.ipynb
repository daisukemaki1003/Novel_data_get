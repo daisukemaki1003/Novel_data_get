{
 "cells": [
  {
   "cell_type": "code",
   "execution_count": 1,
   "metadata": {},
   "outputs": [],
   "source": [
    "import datetime\n",
    "import requests\n",
    "import json\n",
    "import csv\n",
    "import os\n",
    "import sys\n",
    "import pandas as pd\n",
    "import pathlib\n",
    "\n",
    "# 取得したい情報の設定\n",
    "url = \"https://api.syosetu.com/novelapi/api/\"\n",
    "now_date = datetime.date.today().strftime(\"%Y/%m/%d\")\n",
    "now_time = datetime.datetime.now().strftime(\"%H:%M:%S\")\n",
    "\n",
    "# デイリーポイント\n",
    "payload_daily = {'out': 'json', 'order': 'dailypoint', 'biggenre': '2', 'of': 't-g-l-its-iti-izk-nu'}\n",
    "r_daily = requests.get(url, params=payload_daily)\n",
    "x_daily = r_daily.json()"
   ]
  },
  {
   "cell_type": "code",
   "execution_count": 43,
   "metadata": {},
   "outputs": [],
   "source": [
    "daily_all_datas = []\n",
    "daily_all_datas.extend(x_daily[1:])\n",
    "\n",
    "title = 0\n",
    "genre = 0\n",
    "length = 0\n",
    "iszankoku = 0\n",
    "istensei = 0\n",
    "istenni = 0\n",
    "    \n",
    "    \n",
    "for d in daily_all_datas:\n",
    "    title = title + (len(d['title']))\n",
    "    genre = genre + d['genre']\n",
    "    length = length + d['length']\n",
    "    iszankoku = iszankoku + d['iszankoku']\n",
    "    istensei = istensei + d['istensei']\n",
    "    istenni = istenni + d['istenni']\n",
    "\n",
    "df = pd.DataFrame({\n",
    "    'タイトル': [title],\n",
    "    'ジャンル': [genre],\n",
    "    '文字数': [length],\n",
    "    '残酷': [iszankoku],\n",
    "    '転生': [istensei],\n",
    "    '転移': [istenni]}, index=[now_date])\n",
    "\n",
    "df.to_csv('novel.csv', header=True, mode='w', encoding='Shift-JIS')"
   ]
  },
  {
   "cell_type": "code",
   "execution_count": 44,
   "metadata": {},
   "outputs": [
    {
     "data": {
      "text/html": [
       "<div>\n",
       "<style scoped>\n",
       "    .dataframe tbody tr th:only-of-type {\n",
       "        vertical-align: middle;\n",
       "    }\n",
       "\n",
       "    .dataframe tbody tr th {\n",
       "        vertical-align: top;\n",
       "    }\n",
       "\n",
       "    .dataframe thead th {\n",
       "        text-align: right;\n",
       "    }\n",
       "</style>\n",
       "<table border=\"1\" class=\"dataframe\">\n",
       "  <thead>\n",
       "    <tr style=\"text-align: right;\">\n",
       "      <th></th>\n",
       "      <th>タイトル</th>\n",
       "      <th>ジャンル</th>\n",
       "      <th>文字数</th>\n",
       "      <th>残酷</th>\n",
       "      <th>転生</th>\n",
       "      <th>転移</th>\n",
       "    </tr>\n",
       "  </thead>\n",
       "  <tbody>\n",
       "    <tr>\n",
       "      <th>2020/10/12</th>\n",
       "      <td>1013</td>\n",
       "      <td>4024</td>\n",
       "      <td>5505178</td>\n",
       "      <td>13</td>\n",
       "      <td>3</td>\n",
       "      <td>1</td>\n",
       "    </tr>\n",
       "  </tbody>\n",
       "</table>\n",
       "</div>"
      ],
      "text/plain": [
       "            タイトル  ジャンル      文字数  残酷  転生  転移\n",
       "2020/10/12  1013  4024  5505178  13   3   1"
      ]
     },
     "execution_count": 44,
     "metadata": {},
     "output_type": "execute_result"
    }
   ],
   "source": [
    "df"
   ]
  },
  {
   "cell_type": "code",
   "execution_count": 46,
   "metadata": {},
   "outputs": [],
   "source": [
    "df.to_csv('novel.csv', header=False, mode='a', encoding='Shift-JIS')"
   ]
  },
  {
   "cell_type": "code",
   "execution_count": null,
   "metadata": {},
   "outputs": [],
   "source": []
  }
 ],
 "metadata": {
  "kernelspec": {
   "display_name": "Python 3",
   "language": "python",
   "name": "python3"
  },
  "language_info": {
   "codemirror_mode": {
    "name": "ipython",
    "version": 3
   },
   "file_extension": ".py",
   "mimetype": "text/x-python",
   "name": "python",
   "nbconvert_exporter": "python",
   "pygments_lexer": "ipython3",
   "version": "3.8.3"
  }
 },
 "nbformat": 4,
 "nbformat_minor": 4
}
